{
 "cells": [
  {
   "cell_type": "markdown",
   "metadata": {
    "_cell_guid": "e61ef2d8-f315-4f7f-b07e-1de0f4e8441a",
    "_uuid": "1677fddbb95f7545b6540e9201f3339a0fdbfc5d"
   },
   "source": [
    "# Images to .npy\n",
    "Since Colabs runs slowly through folders of images due to google security checks, this is a seperated notebook to preprocess the Data Science Bowl 2018 images and output .npy files with the image datasets."
   ]
  },
  {
   "cell_type": "code",
   "execution_count": null,
   "metadata": {
    "_cell_guid": "c332549b-8d23-4bb5-8497-e7a8eb8b21d2",
    "_uuid": "5c38504af3a84bee68c66d3cde74443c58df422f"
   },
   "outputs": [],
   "source": [
    "import os\n",
    "import sys\n",
    "import random\n",
    "import warnings\n",
    "\n",
    "import numpy as np\n",
    "import pandas as pd\n",
    "\n",
    "import matplotlib.pyplot as plt\n",
    "\n",
    "from tqdm import tqdm\n",
    "from itertools import chain\n",
    "from skimage.io import imread, imshow, imread_collection, concatenate_images\n",
    "from skimage.transform import resize\n",
    "from skimage.util import crop, pad\n",
    "from skimage.morphology import label\n",
    "\n",
    "IMG_SIZE = 256\n",
    "IMG_CHANNELS = 3\n",
    "TRAIN_PATH = 'stage1_train/'\n",
    "TEST_PATH = 'stage2_test/'\n",
    "\n",
    "warnings.filterwarnings('ignore', category=UserWarning, module='skimage')"
   ]
  },
  {
   "cell_type": "code",
   "execution_count": null,
   "metadata": {
    "_cell_guid": "ffa0caf0-2d1b-40f2-865b-8e6db88526b6",
    "_uuid": "3fb9d6530fbbd0e22e41fc4fd9fd9fc0bff027ac"
   },
   "outputs": [],
   "source": [
    "train_ids = next(os.walk(TRAIN_PATH))[1]\n",
    "test_ids = next(os.walk(TEST_PATH))[1]"
   ]
  },
  {
   "cell_type": "code",
   "execution_count": null,
   "metadata": {},
   "outputs": [],
   "source": [
    "len(train_ids)"
   ]
  },
  {
   "cell_type": "markdown",
   "metadata": {
    "_cell_guid": "59c4a25d-645f-4b74-9c53-145ac78cc481",
    "_uuid": "875af74f980236825de3a650825b46e25632422c"
   },
   "source": [
    "# Load in and Crop the Images\n",
    "Note: cropping the images is superior to resizing for object detection in the training set."
   ]
  },
  {
   "cell_type": "code",
   "execution_count": null,
   "metadata": {
    "_cell_guid": "ca0cc34b-c26f-41ee-88d7-975aebdb634e",
    "_uuid": "9e389ba8bdb5b6fc03b231b6a6c84a8bde634053"
   },
   "outputs": [],
   "source": [
    "%%time\n",
    "X_train = np.zeros((len(train_ids), IMG_SIZE, IMG_SIZE, IMG_CHANNELS), dtype=np.uint8)\n",
    "Y_train = np.zeros((len(train_ids), IMG_SIZE, IMG_SIZE, 1), dtype=np.bool)\n",
    "print('Loading and cropping train images and masks')\n",
    "sys.stdout.flush()\n",
    "for n, image_id in tqdm(enumerate(train_ids), total=len(train_ids)):\n",
    "    path = TRAIN_PATH + image_id\n",
    "    img = imread(path + '/images/' + image_id  + '.png')[0:IMG_SIZE,0:IMG_SIZE,:IMG_CHANNELS]\n",
    "    X_train[n] = img\n",
    "    mask = np.zeros((IMG_SIZE, IMG_SIZE, 1), dtype=np.bool)\n",
    "    for mask_file in next(os.walk(path + '/masks/'))[2]:\n",
    "        mask_ = imread(path + '/masks/' + mask_file)[0:IMG_SIZE,0:IMG_SIZE]\n",
    "        mask_ = np.expand_dims(resize(mask_, (IMG_SIZE, IMG_SIZE), mode='constant', \n",
    "                                      preserve_range=True), axis=-1)\n",
    "        mask = np.maximum(mask, mask_)\n",
    "        Y_train[n] = mask\n",
    "\n",
    "X_test = np.zeros((len(test_ids), IMG_SIZE, IMG_SIZE, IMG_CHANNELS), dtype=np.uint8)\n",
    "sizes_test = []\n",
    "print('Loading test images')\n",
    "sys.stdout.flush()\n",
    "for n, image_id in tqdm(enumerate(test_ids), total=len(test_ids)):\n",
    "    path = TEST_PATH + image_id\n",
    "    try:\n",
    "        img = imread(path + '/images/' + image_id + '.png')[:,:,:IMG_CHANNELS]\n",
    "        sizes_test.append([img.shape[0], img.shape[1]])\n",
    "        img = resize(img, (IMG_SIZE, IMG_SIZE), mode='constant', preserve_range=True)\n",
    "        X_test[n] = img\n",
    "    except:\n",
    "        print(\" Problem with: \"+path)\n"
   ]
  },
  {
   "cell_type": "markdown",
   "metadata": {},
   "source": [
    "# Check Training Data"
   ]
  },
  {
   "cell_type": "code",
   "execution_count": null,
   "metadata": {
    "_cell_guid": "88829b53-50ce-45d9-9540-77dd7384ad4c",
    "_uuid": "283af26f0860b7069bdfd133c746e5d20971542c"
   },
   "outputs": [],
   "source": [
    "x = random.randint(0, len(train_ids))\n",
    "imshow(X_train[x])\n",
    "plt.show()\n",
    "imshow(np.squeeze(Y_train[x]))\n",
    "plt.show()"
   ]
  },
  {
   "cell_type": "markdown",
   "metadata": {},
   "source": [
    "# Save into .npy"
   ]
  },
  {
   "cell_type": "code",
   "execution_count": null,
   "metadata": {
    "_cell_guid": "0d7aa30a-0d0b-4296-bde2-fd21c2392088",
    "_uuid": "f6b8112f9e6bc1fa036a1dd94459f9ef956655e3"
   },
   "outputs": [],
   "source": [
    "# np.save('DSB_X_Train_256_Clean_Crop.npy', X_train)\n",
    "# np.save('DSB_X_Testv2_256.npy', X_test)\n",
    "# np.save('DSB_Y_Train_256_Clean_Crop.npy', Y_train)\n",
    "# np.save('DSB_Train_ids.npy', train_ids)\n",
    "# np.save('DSB_Testv2_ids_256.npy', test_ids)\n",
    "# np.save('DSB_Testv2_Sizes_256.npy', sizes_test)"
   ]
  }
 ],
 "metadata": {
  "kernelspec": {
   "display_name": "Python 3",
   "language": "python",
   "name": "python3"
  },
  "language_info": {
   "codemirror_mode": {
    "name": "ipython",
    "version": 3
   },
   "file_extension": ".py",
   "mimetype": "text/x-python",
   "name": "python",
   "nbconvert_exporter": "python",
   "pygments_lexer": "ipython3",
   "version": "3.6.5"
  }
 },
 "nbformat": 4,
 "nbformat_minor": 1
}
