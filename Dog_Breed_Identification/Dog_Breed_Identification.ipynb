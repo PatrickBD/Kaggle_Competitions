{
  "cells": [
    {
      "metadata": {
        "_uuid": "8f2839f25d086af736a60e9eeb907d3b93b6e0e5",
        "_cell_guid": "b1076dfc-b9ad-4769-8c92-a6c4dae69d19",
        "trusted": true
      },
      "cell_type": "code",
      "source": "\nimport keras\nimport keras.backend as K\nfrom keras.models import Sequential\nfrom keras.layers import Dense, Dropout, Conv2D, MaxPooling2D, Flatten, MaxPool2D\nfrom keras.optimizers import RMSprop\nfrom keras.applications.vgg19 import VGG19\nfrom keras.models import Model\nimport pandas as pd\nimport numpy as np\nimport random as rn\nimport math\nimport matplotlib.pyplot as plt\nfrom keras.preprocessing.image import ImageDataGenerator\nfrom keras.callbacks import EarlyStopping, ModelCheckpoint, ReduceLROnPlateau\nfrom numba import vectorize\nfrom tqdm import tqdm\nfrom skimage.io import imread, imshow, imread_collection, concatenate_images\nfrom skimage.transform import resize\nfrom skimage.util import crop, pad\nfrom skimage.morphology import label\nfrom skimage.color import rgb2gray, gray2rgb\nfrom sklearn import preprocessing\nfrom sklearn.model_selection import train_test_split\nfrom keras.layers.convolutional import Convolution2D, MaxPooling2D, ZeroPadding2D\nfrom keras.optimizers import SGD\nfrom joblib import Parallel, delayed\nimport cv2\nimport os\nimport sys",
      "execution_count": null,
      "outputs": []
    },
    {
      "metadata": {
        "_uuid": "7051a2f6ea4366d6ef55a211a6ca65eebe5c0175"
      },
      "cell_type": "markdown",
      "source": "# Read in Dog Images"
    },
    {
      "metadata": {
        "trusted": true,
        "_uuid": "94ef2b868e5a7543c8c8efb6aadb8fbabbd21fa7"
      },
      "cell_type": "code",
      "source": "IMG_WIDTH = 150\nIMG_HEIGHT = 150\nIMG_CHANNELS = 3\nINPUT_SHAPE = (IMG_HEIGHT, IMG_WIDTH, IMG_CHANNELS)\nBATCH_SIZE = 32\nTRAIN_PATH = '../input/train/'\nTEST_PATH = '../input/test/'\n\ntrain_labels = pd.read_csv('../input/labels.csv')\n\n# train_ids = next(os.walk(TRAIN_PATH))[2]\n",
      "execution_count": null,
      "outputs": []
    },
    {
      "metadata": {
        "trusted": true,
        "_uuid": "67e055d36156495e920024e979e51c75550d61c3"
      },
      "cell_type": "code",
      "source": "train_ids = list(train_labels[\"id\"].values)\n\ntargets_series = pd.Series(train_labels['breed'])\none_hot = pd.get_dummies(targets_series, sparse = False)\nY_one_hot = np.asarray(one_hot)\n\ntrain_ids[:10]",
      "execution_count": null,
      "outputs": []
    },
    {
      "metadata": {
        "trusted": true,
        "_uuid": "a742341250c07e26d088505611258690ba38d035"
      },
      "cell_type": "code",
      "source": "%%time\nX_train = np.zeros((len(train_ids), IMG_HEIGHT, IMG_WIDTH, IMG_CHANNELS), dtype=np.uint8)\n# Y_train = np.zeros((len(train_ids), dtype=object))\nfinal_train_ids = []\nmissed_ids =[]\nmissing_count = 0\nprint('Getting train images ... ')\nsys.stdout.flush()\n    \nfor n, id_ in tqdm(enumerate(train_ids), total=len(train_ids)):\n    try:\n        path = TRAIN_PATH + id_+'.jpg'\n        img = imread(path)\n        img = resize(img, (IMG_HEIGHT, IMG_WIDTH), mode='constant', preserve_range=True)\n        X_train[n-missing_count] = img\n#         print(id_)\n    except:\n        missed_ids.append(id_)\n        missing_count += 1\n        \nprint(\"Total missing: \"+ str(missing_count))\nX_train = X_train[0:X_train.shape[0]-missing_count]",
      "execution_count": null,
      "outputs": []
    },
    {
      "metadata": {
        "trusted": true,
        "_uuid": "4984120c286dfdc9df4d21fff85f14e6873dc942"
      },
      "cell_type": "code",
      "source": "print(one_hot.columns.values[Y_one_hot[0].argmax()])\nplt.imshow(X_train[0])",
      "execution_count": null,
      "outputs": []
    },
    {
      "metadata": {
        "trusted": true,
        "_uuid": "78e738616304891262aea9edf72b5a7d085985cc"
      },
      "cell_type": "code",
      "source": "X_train, X_valid, Y_train, Y_valid = train_test_split(X_train, Y_one_hot, test_size=0.2, random_state=1)\nX_train.shape",
      "execution_count": null,
      "outputs": []
    },
    {
      "metadata": {
        "_uuid": "48d956ad1b341cd6a0fe0bc3a1a247e0ad267118"
      },
      "cell_type": "markdown",
      "source": "# Data Augmentation"
    },
    {
      "metadata": {
        "trusted": true,
        "_uuid": "89e88d03e251a0324d56d6f74760d8213293b7a0"
      },
      "cell_type": "code",
      "source": "datagen = ImageDataGenerator(\n        rotation_range=45,\n        zoom_range = 0.1,\n        shear_range=0.15,\n        channel_shift_range=0.1,\n        width_shift_range=0.15,\n        height_shift_range=0.15,\n        fill_mode='constant',\n        cval=0,\n        horizontal_flip=True,\n        vertical_flip=True\n)\n\n\ndatagen.fit(X_train, augment=True, seed=1)",
      "execution_count": null,
      "outputs": []
    },
    {
      "metadata": {
        "_uuid": "bbd2b86e55af9caa8a60cbfe9469beec967a3b97"
      },
      "cell_type": "markdown",
      "source": "# Build the Model"
    },
    {
      "metadata": {
        "trusted": true,
        "_uuid": "f183ba803b6879436662eb4373c9c8615abb4d25"
      },
      "cell_type": "code",
      "source": "base_model = VGG19(weights = 'imagenet', include_top=False, input_shape=INPUT_SHAPE)\n\nx = base_model.output\nx = Convolution2D(256, (2,2), activation='elu', padding='same')(x)\nx = Flatten()(x)\nx = Dense(512, activation='relu')(x)\nx = Dense(256, activation='relu')(x)\nx = Dense(128, activation='relu')(x)\npredictions = Dense(120, activation='softmax')(x)\n\nmodel = Model(inputs=base_model.input, outputs=predictions)\n\nfor layer in base_model.layers:\n    layer.trainable = False\n\nmodel.compile(loss='categorical_crossentropy', \n              optimizer='adam', \n              metrics=['accuracy'])\nmodel.summary()",
      "execution_count": null,
      "outputs": []
    },
    {
      "metadata": {
        "trusted": true,
        "_uuid": "61b60b08fdab886a9e1cb7835797455c8109865a"
      },
      "cell_type": "code",
      "source": "learning_rate_reduction = ReduceLROnPlateau(monitor='val_loss',\n                                            mode='min',\n                                            patience=5, \n                                            verbose=1, \n                                            factor=0.5,\n                                            min_lr=0.00001)\nearly_stopping = EarlyStopping(monitor='val_loss',\n                             patience=10,\n                             verbose=1,\n                             mode='min',\n                            restore_best_weights=True)\nfilepath = \"Dog_Model.h5\"\ncheckpoint = ModelCheckpoint(filepath,\n                             monitor='val_loss',\n                             mode='min',\n                             save_best_only=True,\n                             verbose=1,\n                            )\n\nmodel_callbacks = [learning_rate_reduction, checkpoint, early_stopping]",
      "execution_count": null,
      "outputs": []
    },
    {
      "metadata": {
        "trusted": true,
        "_uuid": "165452477a6b8c24631ffed4a958a237516e933f"
      },
      "cell_type": "code",
      "source": "BATCH_SIZE = 128\nhistory = model.fit_generator(datagen.flow(X_train, Y_train, batch_size=BATCH_SIZE),\n                              epochs = 200,\n                              validation_data = (X_valid, Y_valid),\n                              verbose = 2, steps_per_epoch=X_train.shape[0] // BATCH_SIZE\n                              , callbacks=model_callbacks)",
      "execution_count": null,
      "outputs": []
    },
    {
      "metadata": {
        "trusted": true,
        "_uuid": "6377b40ab3c3838ee7670b5b063d85f1e7b6aaf8"
      },
      "cell_type": "code",
      "source": "plt.plot(history.history['acc'])\nplt.plot(history.history['val_acc'])\nplt.title('model accuracy')\nplt.ylabel('accuracy')\nplt.xlabel('epoch')\nplt.legend(['train', 'valid'], loc='upper left')\nplt.show()",
      "execution_count": null,
      "outputs": []
    },
    {
      "metadata": {
        "trusted": true,
        "_uuid": "47bc78634b2015a69478faac457cb92b772ddc4c"
      },
      "cell_type": "code",
      "source": "%%time\n\ndel X_train\ndf_test = pd.read_csv('../input/sample_submission.csv')\ntest_ids = list(df_test[\"id\"].values)\ntest_ids[:10]",
      "execution_count": null,
      "outputs": []
    },
    {
      "metadata": {
        "trusted": true,
        "_uuid": "76eb30e3664e415078de0b514ab2b0613b1ac862"
      },
      "cell_type": "code",
      "source": "%%time\nX_test = np.zeros((len(test_ids), IMG_HEIGHT, IMG_WIDTH, IMG_CHANNELS), dtype=np.uint8)\nmissed_ids =[]\nmissing_count = 0\nprint('Getting train images ... ')\nsys.stdout.flush()\nfor n, id_ in tqdm(enumerate(test_ids), total=len(test_ids)):\n    try:\n        path = TEST_PATH + id_+'.jpg'\n        img = imread(path)\n        img = resize(img, (IMG_HEIGHT, IMG_WIDTH, IMG_CHANNELS), mode='constant', preserve_range=True)\n        X_test[n-missing_count] = img\n    except:\n        missed_ids.append(id_)\n        missing_count += 1\n        \nprint(\"Total missing: \"+ str(missing_count))\nX_test = X_test[0:X_test.shape[0]-missing_count]",
      "execution_count": null,
      "outputs": []
    },
    {
      "metadata": {
        "trusted": true,
        "_uuid": "cf2f5d3edb10eb501138c6b2a82a9cd2bdc4a3f9"
      },
      "cell_type": "code",
      "source": "preds = model.predict(X_test, verbose=1)",
      "execution_count": null,
      "outputs": []
    },
    {
      "metadata": {
        "trusted": true,
        "_uuid": "cd9b9074aa1bc6acac5057159b568a3b2a7826ca"
      },
      "cell_type": "code",
      "source": "sub = pd.DataFrame(preds)\ncol_names = one_hot.columns.values\nsub.columns = col_names\nsub.insert(0, 'id', df_test['id'])\nsub.head(5)",
      "execution_count": null,
      "outputs": []
    },
    {
      "metadata": {
        "trusted": true,
        "_uuid": "3c6849e9c985ae091a15110a6dc2bcc5be5595cf"
      },
      "cell_type": "code",
      "source": "sub.to_csv(\"Dog_Submission.csv\", index=False, header=True)",
      "execution_count": null,
      "outputs": []
    }
  ],
  "metadata": {
    "kernelspec": {
      "display_name": "Python 3",
      "language": "python",
      "name": "python3"
    },
    "language_info": {
      "name": "python",
      "version": "3.6.6",
      "mimetype": "text/x-python",
      "codemirror_mode": {
        "name": "ipython",
        "version": 3
      },
      "pygments_lexer": "ipython3",
      "nbconvert_exporter": "python",
      "file_extension": ".py"
    }
  },
  "nbformat": 4,
  "nbformat_minor": 1
}