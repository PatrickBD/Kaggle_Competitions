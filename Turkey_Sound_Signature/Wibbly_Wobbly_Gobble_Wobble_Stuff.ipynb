{
  "cells": [
    {
      "metadata": {
        "_uuid": "a4d304a3fbf61717ee4789e7d0cffba5c49c253e"
      },
      "cell_type": "markdown",
      "source": "# Wibbly Wobbly Gobble Wobble Stuff\n\nThis model uses several 1d convolution layers and bidirectional LSTM layers to make it's prediction. It is a bit unnecessarily heavy but it can reach 100% validation accuracy easily as a result. There is not a whole lot of room for improvement with such a tiny dataset. This was a fun quick dataset for over the Thanksgiving break. Have a great holiday everyone."
    },
    {
      "metadata": {
        "_uuid": "8f2839f25d086af736a60e9eeb907d3b93b6e0e5",
        "_cell_guid": "b1076dfc-b9ad-4769-8c92-a6c4dae69d19",
        "trusted": true
      },
      "cell_type": "code",
      "source": "import numpy as np\nimport pandas as pd\nimport os\nfrom keras.models import Model\nfrom keras.layers import Dense, Bidirectional, LSTM, BatchNormalization, Dropout, Input, Conv1D\nfrom keras.callbacks import EarlyStopping, ModelCheckpoint, ReduceLROnPlateau\nfrom keras.layers import Flatten\nfrom keras.preprocessing.sequence import pad_sequences\nfrom keras import optimizers\nfrom sklearn.model_selection import train_test_split",
      "execution_count": null,
      "outputs": []
    },
    {
      "metadata": {
        "_uuid": "ca64c363ea9cd63620c26e143ea6508f14929d19"
      },
      "cell_type": "markdown",
      "source": "# Read in the Data"
    },
    {
      "metadata": {
        "trusted": true,
        "_uuid": "8cc53555b7ea8b580ccbb74f8b3f4497a2f17751"
      },
      "cell_type": "code",
      "source": "train = pd.read_json('../input/train.json')\ntest = pd.read_json('../input/test.json')",
      "execution_count": null,
      "outputs": []
    },
    {
      "metadata": {
        "_cell_guid": "79c7e3d0-c299-4dcb-8224-4455121ee9b0",
        "_uuid": "d629ff2d2480ee46fbb7e2d37f6b5fab8052498a",
        "trusted": true
      },
      "cell_type": "code",
      "source": "X_train = pad_sequences(train['audio_embedding'].tolist(), maxlen=10)\nX_test = pad_sequences(test['audio_embedding'].tolist(), maxlen=10)\nY_train = np.asarray(train['is_turkey'].values)\n",
      "execution_count": null,
      "outputs": []
    },
    {
      "metadata": {
        "_uuid": "947e936150fc518b55f0f7e07ab55e0f9e5a2d4f"
      },
      "cell_type": "markdown",
      "source": "# Create the Model"
    },
    {
      "metadata": {
        "trusted": true,
        "_uuid": "1af4cf51ef39ca0dc8b5d5b987fd40173fc60c21"
      },
      "cell_type": "code",
      "source": "def createmodel(): \n    inp = Input((10, 128))\n    x = Conv1D(512, 10, padding='same')(inp)\n    x = Conv1D(256, 5, padding='same')(x)\n    x = BatchNormalization()(x)\n    x = Bidirectional(LSTM(512, return_sequences=True, recurrent_dropout=0.1))(x)\n    x = BatchNormalization()(x)\n    x = Conv1D(256, 10, padding='same')(x)\n    x = Conv1D(128, 5, padding='same')(x)\n    x = Bidirectional(LSTM(512, return_sequences=True, recurrent_dropout=0.1))(x)\n    x = Flatten()(x)\n    x = Dense(128, activation='relu')(x)\n    x = Dense(64, activation='relu')(x)\n    x = Dense(1, activation='sigmoid')(x)\n\n    return Model(inp, x)\n\n\nmodel = createmodel()\nmodel.compile(loss='binary_crossentropy', optimizer=optimizers.adam(lr=0.0001), metrics=['accuracy'])\nprint(model.summary())",
      "execution_count": null,
      "outputs": []
    },
    {
      "metadata": {
        "_uuid": "87c36e115aca08c6e9640ca6b101a2f36a3b4f5c"
      },
      "cell_type": "markdown",
      "source": "# Callbacks"
    },
    {
      "metadata": {
        "trusted": true,
        "_uuid": "23f3de08b5e73b58628400c67ea4ca8e9eaa9fba"
      },
      "cell_type": "code",
      "source": "learning_rate_reduction = ReduceLROnPlateau(monitor='val_loss', \n                                            patience=4, \n                                            verbose=1, \n                                            factor=0.5,\n                                            min_lr=0.00001)\n\nearly_stopping = EarlyStopping(monitor='val_loss',\n                              patience=8,\n                              verbose=1,\n                              mode='min',\n                              restore_best_weights=True)\n\ncallback = [learning_rate_reduction, early_stopping]",
      "execution_count": null,
      "outputs": []
    },
    {
      "metadata": {
        "_uuid": "299296a29e249da22836e863b1e59b8dc200845d"
      },
      "cell_type": "markdown",
      "source": "# Train the Model"
    },
    {
      "metadata": {
        "trusted": true,
        "_uuid": "ee0d38507f25630ec610caca7af290c9f02220f3"
      },
      "cell_type": "code",
      "source": "BATCH_SIZE = 16\nMAX_EPOCHS = 20\nCV_LOOPS = 2\n\npred_list = []\n\nfor i in range(CV_LOOPS):\n    \n    X_batch, X_val, Y_batch, Y_val = train_test_split(X_train, Y_train, test_size=0.2+(0.02*i), random_state=42+i)\n    \n    model = createmodel()\n    model.compile(loss='binary_crossentropy',\n              optimizer=optimizers.adam(lr=0.0001),\n              metrics=['accuracy'])\n\n    model.fit(X_train, Y_train,\n              batch_size=BATCH_SIZE*(i+1),\n              epochs=MAX_EPOCHS,\n              validation_data=(X_val, Y_val),\n              verbose=2,\n              callbacks=callback\n             )\n\n    pred_list.append(model.predict(X_test))",
      "execution_count": null,
      "outputs": []
    },
    {
      "metadata": {
        "_uuid": "eb83b13d283e2c1355ccf57bdb191758cb697197"
      },
      "cell_type": "markdown",
      "source": "# Prepare the Submission"
    },
    {
      "metadata": {
        "trusted": true,
        "_uuid": "a815a51b2f1924b74b409e39b36a48b0306140b2"
      },
      "cell_type": "code",
      "source": "sub = pd.read_csv('../input/sample_submission.csv')\n\nratio = 1/CV_LOOPS\npred = sub['is_turkey'].values\nfor x in pred_list:\n    pred = pred+(x*ratio)\n    \nsub['is_turkey'] = pred\nsub.to_csv('submission.csv', index=False)\n\nsub[:20]",
      "execution_count": null,
      "outputs": []
    }
  ],
  "metadata": {
    "kernelspec": {
      "display_name": "Python 3",
      "language": "python",
      "name": "python3"
    },
    "language_info": {
      "name": "python",
      "version": "3.6.6",
      "mimetype": "text/x-python",
      "codemirror_mode": {
        "name": "ipython",
        "version": 3
      },
      "pygments_lexer": "ipython3",
      "nbconvert_exporter": "python",
      "file_extension": ".py"
    }
  },
  "nbformat": 4,
  "nbformat_minor": 1
}